{
 "cells": [
  {
   "cell_type": "markdown",
   "metadata": {},
   "source": [
    "### Problem 1: Sum of a Range of Integers"
   ]
  },
  {
   "cell_type": "markdown",
   "metadata": {},
   "source": [
    "#### Solution 1: Real Python"
   ]
  },
  {
   "cell_type": "code",
   "execution_count": 1,
   "metadata": {},
   "outputs": [
    {
     "data": {
      "text/plain": [
       "55"
      ]
     },
     "execution_count": 1,
     "metadata": {},
     "output_type": "execute_result"
    }
   ],
   "source": [
    "\"\"\" Sum of Integers Up To n\n",
    "    Write a function, add_it_up(), that takes a single integer as input\n",
    "    and returns the sum of the integers from zero to the input parameter.\n",
    "\n",
    "    The function should return 0 if a non-integer is passed in.\n",
    "\"\"\"\n",
    "def add_it_up(n):\n",
    "    try:\n",
    "        acc = sum(range(n + 1))\n",
    "    except TypeError:\n",
    "        acc = 0\n",
    "    return acc\n",
    "\n",
    "add_it_up(10)"
   ]
  },
  {
   "cell_type": "markdown",
   "metadata": {},
   "source": [
    "#### Solution 2: Tail Recursive"
   ]
  },
  {
   "cell_type": "code",
   "execution_count": 2,
   "metadata": {},
   "outputs": [
    {
     "data": {
      "text/plain": [
       "55"
      ]
     },
     "execution_count": 2,
     "metadata": {},
     "output_type": "execute_result"
    }
   ],
   "source": [
    "def add_it_up_recursive(n, acc = 0):\n",
    "    if n <= 0:\n",
    "        return acc\n",
    "    return add_it_up_recursive(n - 1, acc + n)\n",
    "\n",
    "add_it_up_recursive(10)"
   ]
  },
  {
   "cell_type": "markdown",
   "metadata": {},
   "source": [
    "### Problem 2: Caesar Cipher"
   ]
  },
  {
   "cell_type": "markdown",
   "metadata": {},
   "source": [
    "#### Solution 1: Real Python"
   ]
  },
  {
   "cell_type": "code",
   "execution_count": 3,
   "metadata": {},
   "outputs": [
    {
     "data": {
      "text/plain": [
       "'efgh bcd'"
      ]
     },
     "execution_count": 3,
     "metadata": {},
     "output_type": "execute_result"
    }
   ],
   "source": [
    "\"\"\" A caesar cipher is a simple substitution cipher where each letter of the\n",
    "    plain text is substituted with a letter found by moving 'n' places down the\n",
    "    alphabet. For an example, if the input plain text is:\n",
    "\n",
    "        abcd xyz\n",
    "\n",
    "    and the shift value, n, is 4. The encrypted text would be:\n",
    "\n",
    "        efgh bcd\n",
    "\n",
    "    You are to write a function which accepts two arguments, a plain-text\n",
    "    message and a number of letters to shift in the cipher. The function will\n",
    "    return an encrypted string with all letters being transformed while all\n",
    "    punctuation and whitespace remains unchanged.\n",
    "\n",
    "    Note: You can assume the plain text is all lowercase ascii, except for\n",
    "    whitespace and punctuation.\n",
    "    \n",
    "    For this problem, you’re free to use any part of the Python standard library to do the transform.\n",
    "\"\"\"\n",
    "\n",
    "import string\n",
    "\n",
    "def caesar(plain_text, shift_num=1):\n",
    "    letters = string.ascii_lowercase\n",
    "    mask = letters[shift_num:] + letters[:shift_num]\n",
    "    trantab = str.maketrans(letters, mask)\n",
    "    return plain_text.translate(trantab)\n",
    "\n",
    "caesar('abcd xyz', 4)"
   ]
  },
  {
   "cell_type": "markdown",
   "metadata": {},
   "source": [
    "#### Solution 2: Mine - will work even if shift_num > 26"
   ]
  },
  {
   "cell_type": "code",
   "execution_count": 4,
   "metadata": {},
   "outputs": [
    {
     "data": {
      "text/plain": [
       "'efgh bcd'"
      ]
     },
     "execution_count": 4,
     "metadata": {},
     "output_type": "execute_result"
    }
   ],
   "source": [
    "def caesar_mine(plain_text, shift_num=1):\n",
    "    translation_dict = {ord('a') + i : ord('a') + (i + shift_num) % 26 for i in range(26)}\n",
    "    return plain_text.translate(translation_dict)\n",
    "\n",
    "caesar_mine('abcd xyz', 4)"
   ]
  },
  {
   "cell_type": "markdown",
   "metadata": {},
   "source": [
    "### Problem 3: Caesar Cipher Redux"
   ]
  },
  {
   "cell_type": "markdown",
   "metadata": {},
   "source": [
    "#### Solution 1: Real Python"
   ]
  },
  {
   "cell_type": "code",
   "execution_count": 5,
   "metadata": {},
   "outputs": [
    {
     "data": {
      "text/plain": [
       "'efgh bcd'"
      ]
     },
     "execution_count": 5,
     "metadata": {},
     "output_type": "execute_result"
    }
   ],
   "source": [
    "\"\"\" solve the Caesar cipher again, but this time we'll do it without using .translate().\n",
    "\"\"\"\n",
    "\n",
    "import string\n",
    "\n",
    "def shift_n(letter, table):\n",
    "    try:\n",
    "        index = string.ascii_lowercase.index(letter)\n",
    "        return table[index]\n",
    "    except ValueError:\n",
    "        return letter\n",
    "\n",
    "def caesar(plain_text, shift_num=1):\n",
    "    shift_num = shift_num % 26\n",
    "    table = string.ascii_lowercase[shift_num:] + string.ascii_lowercase[:shift_num]\n",
    "    enc_list = [shift_n(letter, table) for letter in plain_text]\n",
    "    return \"\".join(enc_list)\n",
    "\n",
    "caesar('abcd xyz', 4)"
   ]
  },
  {
   "cell_type": "markdown",
   "metadata": {},
   "source": [
    "#### Solution 2: Mine"
   ]
  },
  {
   "cell_type": "code",
   "execution_count": 6,
   "metadata": {},
   "outputs": [
    {
     "data": {
      "text/plain": [
       "'efgh bcd'"
      ]
     },
     "execution_count": 6,
     "metadata": {},
     "output_type": "execute_result"
    }
   ],
   "source": [
    "import string\n",
    "\n",
    "def caesar_mine(plain_text, shift_num=1):\n",
    "    letters = string.ascii_lowercase\n",
    "    translation_dict = {letters[i] : chr(ord('a') + (i + shift_num) % 26) for i in range(26)}\n",
    "    return ''.join([translation_dict.get(character, character) for character in plain_text])\n",
    "\n",
    "caesar_mine('abcd xyz', 4)"
   ]
  },
  {
   "cell_type": "markdown",
   "metadata": {},
   "source": [
    "### Problem 4: Log Parser"
   ]
  },
  {
   "cell_type": "markdown",
   "metadata": {},
   "source": [
    "#### Solution 1: Real Python"
   ]
  },
  {
   "cell_type": "code",
   "execution_count": 7,
   "metadata": {},
   "outputs": [
    {
     "name": "stdout",
     "output_type": "stream",
     "text": [
      "Device was on for 6.305999999999999 seconds\n",
      "Timestamps of error events:\n",
      "\tJul 11 16:11:54:661\n",
      "\tJul 11 16:11:56:067\n"
     ]
    }
   ],
   "source": [
    "\"\"\" log parser\n",
    "    Accepts a filename on the command line. The file is a Linux-like log file\n",
    "    from a system you are debugging. Mixed in among the various statements are\n",
    "    messages indicating the state of the device. They look like this:\n",
    "        Jul 11 16:11:51:490 [139681125603136] dut: Device State: ON\n",
    "    The device state message has many possible values, but this program cares\n",
    "    about only three: ON, OFF, and ERR.\n",
    "\n",
    "    Your program will parse the given log file and print out a report giving\n",
    "    how long the device was ON and the timestamp of any ERR conditions.\n",
    "\"\"\"\n",
    "\n",
    "# Tip: log files can be huge, so don't read the entire file, parse it line by line\n",
    "\n",
    "import datetime\n",
    "import sys\n",
    "\n",
    "def get_next_event(filename):\n",
    "    with open(filename, \"r\") as datafile:\n",
    "        for line in datafile:\n",
    "            if \"dut: Device State: \" in line:\n",
    "                line = line.strip()\n",
    "                # Parse out the action and timestamp\n",
    "                action = line.split()[-1]\n",
    "                timestamp = line[:19]\n",
    "                yield (action, timestamp)\n",
    "\n",
    "def compute_time_diff_seconds(start, end):\n",
    "    format = \"%b %d %H:%M:%S:%f\"\n",
    "    start_time = datetime.datetime.strptime(start, format)\n",
    "    end_time = datetime.datetime.strptime(end, format)\n",
    "    return (end_time - start_time).total_seconds()\n",
    "\n",
    "def extract_data(filename):\n",
    "    time_on_started = None\n",
    "    errs = []\n",
    "    total_time_on = 0\n",
    "\n",
    "    for action, timestamp in get_next_event(filename):\n",
    "        # First test for errs\n",
    "        if \"ERR\" == action:\n",
    "            errs.append(timestamp)\n",
    "        elif (\"ON\" == action) and (not time_on_started):\n",
    "            time_on_started = timestamp\n",
    "        elif (\"OFF\" == action) and time_on_started:\n",
    "            time_on = compute_time_diff_seconds(time_on_started, timestamp)\n",
    "            total_time_on += time_on\n",
    "            time_on_started = None\n",
    "    return total_time_on, errs\n",
    "\n",
    "if __name__ == \"__main__\":\n",
    "    total_time_on, errs = extract_data('./data/test.log')\n",
    "    print(f\"Device was on for {total_time_on} seconds\")\n",
    "    if errs:\n",
    "        print(\"Timestamps of error events:\")\n",
    "        for err in errs:\n",
    "            print(f\"\\t{err}\")\n",
    "    else:\n",
    "        print(\"No error events found.\")"
   ]
  },
  {
   "cell_type": "markdown",
   "metadata": {},
   "source": [
    "### Problem 5: Sudoku Solver"
   ]
  },
  {
   "cell_type": "markdown",
   "metadata": {},
   "source": [
    "#### Solution 1: Real Python"
   ]
  },
  {
   "cell_type": "code",
   "execution_count": 8,
   "metadata": {},
   "outputs": [
    {
     "data": {
      "text/plain": [
       "'316452978285679314497318562879234156142965783653187249968721435521843697734596821'"
      ]
     },
     "execution_count": 8,
     "metadata": {},
     "output_type": "execute_result"
    }
   ],
   "source": [
    "\"\"\" Sudoku Solver\n",
    "    Note: A description of the sudoku puzzle can be found at:\n",
    "\n",
    "        https://en.wikipedia.org/wiki/Sudoku\n",
    "\n",
    "    Given a string in SDM format, described below, write a program to find and\n",
    "    return the solution for the sudoku puzzle in the string. The solution should\n",
    "    be returned in the same SDM format as the input.\n",
    "\n",
    "    Some puzzles will not be solvable. In that case, return the string\n",
    "    \"Unsolvable\".\n",
    "\n",
    "    The general SDM format is described here:\n",
    "\n",
    "        http://www.sudocue.net/fileformats.php\n",
    "\n",
    "    For our purposes, each SDM string will be a sequence of 81 digits, one for\n",
    "    each position on the sudoku puzzle. Known numbers will be given, and unknown\n",
    "    positions will have a zero value.\n",
    "\n",
    "    For example, assume you're given this string of digits (split into two lines\n",
    "    for readability):\n",
    "\n",
    "        0040060790000006020560923000780610305090004\n",
    "             06020540890007410920105000000840600100\n",
    "\n",
    "    The string represents this starting sudoku puzzle:\n",
    "\n",
    "             0 0 4   0 0 6   0 7 9\n",
    "             0 0 0   0 0 0   6 0 2\n",
    "             0 5 6   0 9 2   3 0 0\n",
    "\n",
    "             0 7 8   0 6 1   0 3 0\n",
    "             5 0 9   0 0 0   4 0 6\n",
    "             0 2 0   5 4 0   8 9 0\n",
    "\n",
    "             0 0 7   4 1 0   9 2 0\n",
    "             1 0 5   0 0 0   0 0 0\n",
    "             8 4 0   6 0 0   1 0 0\n",
    "\n",
    "    The provided unit tests may take a while to run, so be patient.\n",
    "\"\"\"\n",
    "\n",
    "import copy\n",
    "\n",
    "def line_to_grid(values):\n",
    "    grid = []\n",
    "    line = []\n",
    "    for index, char in enumerate(values):\n",
    "        if index and index % 9 == 0:\n",
    "            grid.append(line)\n",
    "            line = []\n",
    "        line.append(int(char))\n",
    "    # Add the final line\n",
    "    grid.append(line)\n",
    "    return grid\n",
    "\n",
    "def grid_to_line(grid):\n",
    "    line = \"\"\n",
    "    for row in grid:\n",
    "        r = \"\".join(str(x) for x in row)\n",
    "        line += r\n",
    "    return line\n",
    "\n",
    "def small_square(x, y):\n",
    "    upperX = ((x + 3) // 3) * 3\n",
    "    upperY = ((y + 3) // 3) * 3\n",
    "    lowerX = upperX - 3\n",
    "    lowerY = upperY - 3\n",
    "    for subX in range(lowerX, upperX):\n",
    "        for subY in range(lowerY, upperY):\n",
    "            # If subX != x or subY != y:\n",
    "            if not (subX == x and subY == y):\n",
    "                yield subX, subY\n",
    "\n",
    "def compute_next_position(x, y):\n",
    "    nextY = y\n",
    "    nextX = (x + 1) % 9\n",
    "    if nextX < x:\n",
    "        nextY = (y + 1) % 9\n",
    "        if nextY < y:\n",
    "            return (True, 0, 0)\n",
    "    return (False, nextX, nextY)\n",
    "\n",
    "def test_and_remove(value, possible):\n",
    "    if value != 0 and value in possible:\n",
    "        possible.remove(value)\n",
    "\n",
    "\n",
    "def detect_possible(grid, x, y):\n",
    "    if grid[x][y]:\n",
    "        return [grid[x][y]]\n",
    "\n",
    "    possible = set(range(1, 10))\n",
    "    # Test horizontal and vertical\n",
    "    for index in range(9):\n",
    "        if index != y:\n",
    "            test_and_remove(grid[x][index], possible)\n",
    "        if index != x:\n",
    "            test_and_remove(grid[index][y], possible)\n",
    "\n",
    "    # Test in small square\n",
    "    for subX, subY in small_square(x, y):\n",
    "        test_and_remove(grid[subX][subY], possible)\n",
    "\n",
    "    return list(possible)\n",
    "\n",
    "def solve(start, x, y):\n",
    "    temp = copy.deepcopy(start)\n",
    "    while True:\n",
    "        possible = detect_possible(temp, x, y)\n",
    "        if not possible:\n",
    "            return False\n",
    "\n",
    "        finished, nextX, nextY = compute_next_position(x, y)\n",
    "        if finished:\n",
    "            temp[x][y] = possible[0]\n",
    "            return temp\n",
    "\n",
    "        if len(possible) > 1:\n",
    "            break\n",
    "        temp[x][y] = possible[0]\n",
    "        x = nextX\n",
    "        y = nextY\n",
    "\n",
    "    for guess in possible:\n",
    "        temp[x][y] = guess\n",
    "        result = solve(temp, nextX, nextY)\n",
    "        if result:\n",
    "            return result\n",
    "    return False\n",
    "\n",
    "def sudoku_solve(input_string):\n",
    "    grid = line_to_grid(input_string)\n",
    "    answer = solve(grid, 0, 0)\n",
    "    if answer:\n",
    "        return grid_to_line(answer)\n",
    "    else:\n",
    "        return \"Unsolvable\"\n",
    "\n",
    "sdm = '016400000200009000400000062070230100100000003003087040960000005000800007000006820'\n",
    "sudoku_solve(sdm)"
   ]
  },
  {
   "cell_type": "markdown",
   "metadata": {},
   "source": [
    "#### Solution 2: Mine"
   ]
  },
  {
   "cell_type": "code",
   "execution_count": 9,
   "metadata": {},
   "outputs": [
    {
     "data": {
      "text/plain": [
       "'316452978285679314497318562879234156142965783653187249968721435521843697734596821'"
      ]
     },
     "execution_count": 9,
     "metadata": {},
     "output_type": "execute_result"
    }
   ],
   "source": [
    "import numpy as np\n",
    "import pandas as pd\n",
    "\n",
    "def df_to_sdm(df):\n",
    "    return ''.join([ele for row in df.values.tolist() for ele in row])\n",
    "\n",
    "def is_feasible_or_solution(df):\n",
    "    if df.isin(['']).sum().sum() != 0:\n",
    "        return False, False\n",
    "    elif df.applymap(lambda ele: len(ele)).sum().sum() == 81:\n",
    "        return True, True\n",
    "    return True, False\n",
    "\n",
    "def suggest_digits(row, column, box, full_set):\n",
    "    row_set = set(row)\n",
    "    column_set = set(column)\n",
    "    box_set = {col_ele for row_ele in box.values.tolist() for col_ele in row_ele}\n",
    "    return ''.join(list(full_set - row_set.union(column_set).union(box_set)))\n",
    "\n",
    "def fill_blank_cells_with_possible_values(original_sudoku, full_set):\n",
    "    run = True\n",
    "    while run:\n",
    "        sudoku = original_sudoku.copy()\n",
    "        run = False\n",
    "        for i in range(9):\n",
    "            for j in range(9):\n",
    "                box_coor_top_left = 3 * (i // 3), 3 * (j // 3)\n",
    "                if original_sudoku.iloc[i, j] == '0':\n",
    "                    possible_values = suggest_digits(\n",
    "                        original_sudoku.iloc[i, :],\n",
    "                        original_sudoku.iloc[:, j],\n",
    "                        original_sudoku.iloc[box_coor_top_left[0]:box_coor_top_left[0]+3, box_coor_top_left[1]:box_coor_top_left[1]+3],\n",
    "                        full_set\n",
    "                    )\n",
    "                    if len(possible_values) == 1:\n",
    "                        run = True\n",
    "                        original_sudoku.iloc[i, j] = possible_values[0]\n",
    "                    else:\n",
    "                        sudoku.iloc[i, j] = possible_values\n",
    "    return sudoku\n",
    "\n",
    "def suggest_for_exploration(df):\n",
    "    mask = df.applymap(lambda ele: len(ele)) > 1\n",
    "    for i in range(9):\n",
    "        for j in range(9):\n",
    "            if mask.iloc[i, j]:\n",
    "                mask.iloc[i, j] = False\n",
    "                df[mask] = '0'\n",
    "                sudoku = df.copy()\n",
    "                sudoku.iloc[i, j] = df.iloc[i, j][0]\n",
    "                sudoku[mask] = '0'\n",
    "                sudoku_explore_later = []\n",
    "                for digit in df.iloc[i, j][1:]:\n",
    "                    temp = df.copy()\n",
    "                    temp.iloc[i, j] = digit\n",
    "                    sudoku_explore_later.append(temp)\n",
    "                return(sudoku, sudoku_explore_later)\n",
    "\n",
    "def sudoku_solve(input_string):\n",
    "    stack = []\n",
    "    original_sudoku = pd.DataFrame(np.array(list(input_string)).reshape(9,9))\n",
    "    full_set = set(map(str, range(1,10)))\n",
    "    sudoku = original_sudoku.copy()\n",
    "    while True:\n",
    "        sudoku = fill_blank_cells_with_possible_values(sudoku, full_set)\n",
    "        is_feasible, is_solution = is_feasible_or_solution(sudoku)\n",
    "        if is_solution:\n",
    "            return df_to_sdm(sudoku)\n",
    "        elif is_feasible:\n",
    "            sudoku, sudoku_explore_later = suggest_for_exploration(sudoku)\n",
    "            stack.extend(sudoku_explore_later)\n",
    "        elif len(stack) >= 1:\n",
    "            sudoku = stack.pop()\n",
    "        else:\n",
    "            return 'Unsolvable'\n",
    "\n",
    "sdm = '016400000200009000400000062070230100100000003003087040960000005000800007000006820'\n",
    "sudoku_solve(sdm)"
   ]
  }
 ],
 "metadata": {
  "kernelspec": {
   "display_name": "Python 3",
   "language": "python",
   "name": "python3"
  },
  "language_info": {
   "codemirror_mode": {
    "name": "ipython",
    "version": 3
   },
   "file_extension": ".py",
   "mimetype": "text/x-python",
   "name": "python",
   "nbconvert_exporter": "python",
   "pygments_lexer": "ipython3",
   "version": "3.8.7"
  }
 },
 "nbformat": 4,
 "nbformat_minor": 4
}
