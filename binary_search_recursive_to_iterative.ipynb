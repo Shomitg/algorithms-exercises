{
 "cells": [
  {
   "cell_type": "markdown",
   "metadata": {},
   "source": [
    "Exercise from https://blog.moertel.com/posts/2013-05-11-recursive-to-iterative.html"
   ]
  },
  {
   "cell_type": "code",
   "execution_count": 1,
   "metadata": {},
   "outputs": [],
   "source": [
    "#!/usr/bin/env python\n",
    "\n",
    "\"\"\"Recursion-to-Iteration Exercise 1\n",
    "There are two recursive calls in find_val_or_next_smallest.\n",
    "Can you create an equivalent function in which one of the\n",
    "calls has been replaced by iteration?  (Hint:  Tail calls\n",
    "are easier to replace.)\n",
    "Can you create an equivalent function in which *both* of the\n",
    "calls have been replaced by iteration?\n",
    "For more information, see:\n",
    "http://blog.moertel.com/tags/recursion-to-iteration%20series.html\n",
    "Tom Moertel <tom@moertel.com>\n",
    "\"\"\"\n",
    "\n",
    "class BSTNode(object):\n",
    "    \"\"\"Binary search tree node.\"\"\"\n",
    "\n",
    "    def __init__(self, val, left=None, right=None):\n",
    "        self.val = val\n",
    "        self.left = left\n",
    "        self.right = right\n",
    "\n",
    "    def __repr__(self):\n",
    "        return '(%s, %r, %r)' % (self.val, self.left, self.right)\n",
    "\n",
    "# tests\n",
    "import bisect\n",
    "\n",
    "tree0 = None\n",
    "tree1 = BSTNode(5)\n",
    "tree2 = BSTNode(5, BSTNode(3))\n",
    "tree3 = BSTNode(5, BSTNode(3), BSTNode(9))\n",
    "tree4 = BSTNode(5, BSTNode(3, BSTNode(1)), BSTNode(9))\n",
    "\n",
    "trees = [tree0, tree1, tree2, tree3, tree4]\n",
    "tree_vals = [[], [5], [3, 5], [3, 5, 9], [1, 3, 5, 9]]\n",
    "\n",
    "def test():\n",
    "    for vals, bst in zip(tree_vals, trees):\n",
    "        for x in range(10):\n",
    "            y = find_val_or_next_smallest(bst, x)\n",
    "            if y is None:\n",
    "                assert all(x < z for z in vals)\n",
    "            else:\n",
    "                assert y <= x\n",
    "                if y != x:\n",
    "                    i = bisect.bisect_right(vals, x)\n",
    "                    assert all(x < z for z in vals[i:])\n",
    "    print('all the tests are successful')\n"
   ]
  },
  {
   "cell_type": "markdown",
   "metadata": {},
   "source": [
    "### normal recursive implementation"
   ]
  },
  {
   "cell_type": "code",
   "execution_count": 2,
   "metadata": {},
   "outputs": [
    {
     "name": "stdout",
     "output_type": "stream",
     "text": [
      "all the tests are successful\n"
     ]
    }
   ],
   "source": [
    "def find_val_or_next_smallest(bst, x):\n",
    "    \"\"\"Get the greatest value <= x in a binary search tree.\n",
    "    Returns None if no such value can be found.\n",
    "    \"\"\"\n",
    "    if bst is None:\n",
    "        return None\n",
    "    elif bst.val == x:\n",
    "        return x\n",
    "    elif bst.val > x:\n",
    "        return find_val_or_next_smallest(bst.left, x)\n",
    "    else:\n",
    "        right_best = find_val_or_next_smallest(bst.right, x)\n",
    "        if right_best is None:\n",
    "            return bst.val\n",
    "        return right_best\n",
    "\n",
    "test()"
   ]
  },
  {
   "cell_type": "markdown",
   "metadata": {},
   "source": [
    "### tail-recursive implementation"
   ]
  },
  {
   "cell_type": "code",
   "execution_count": 3,
   "metadata": {},
   "outputs": [
    {
     "name": "stdout",
     "output_type": "stream",
     "text": [
      "all the tests are successful\n"
     ]
    }
   ],
   "source": [
    "def find_val_or_next_smallest(bst, x, val = None):\n",
    "    \"\"\"Get the greatest value <= x in a binary search tree.\n",
    "\n",
    "    Returns None if no such value can be found.\n",
    "\n",
    "    \"\"\"\n",
    "    if bst is None:\n",
    "        return val\n",
    "    elif bst.val == x:\n",
    "        return x\n",
    "    elif bst.val > x:\n",
    "        return find_val_or_next_smallest(bst.left, x, val)\n",
    "    else:\n",
    "        return find_val_or_next_smallest(bst.right, x, bst.val)\n",
    "\n",
    "test()"
   ]
  },
  {
   "cell_type": "markdown",
   "metadata": {},
   "source": [
    "### iterative implementation"
   ]
  },
  {
   "cell_type": "code",
   "execution_count": 4,
   "metadata": {},
   "outputs": [
    {
     "name": "stdout",
     "output_type": "stream",
     "text": [
      "all the tests are successful\n"
     ]
    }
   ],
   "source": [
    "def find_val_or_next_smallest(bst, x, val = None):\n",
    "    \"\"\"Get the greatest value <= x in a binary search tree.\n",
    "\n",
    "    Returns None if no such value can be found.\n",
    "\n",
    "    \"\"\"\n",
    "    while bst:\n",
    "        if bst.val == x:\n",
    "            return x\n",
    "        elif bst.val > x:\n",
    "            bst, val = bst.left, val\n",
    "        else:\n",
    "            bst, val = bst.right, bst.val\n",
    "    return val\n",
    "\n",
    "test()"
   ]
  }
 ],
 "metadata": {
  "kernelspec": {
   "display_name": "Python 3",
   "language": "python",
   "name": "python3"
  },
  "language_info": {
   "codemirror_mode": {
    "name": "ipython",
    "version": 3
   },
   "file_extension": ".py",
   "mimetype": "text/x-python",
   "name": "python",
   "nbconvert_exporter": "python",
   "pygments_lexer": "ipython3",
   "version": "3.7.3"
  }
 },
 "nbformat": 4,
 "nbformat_minor": 4
}
