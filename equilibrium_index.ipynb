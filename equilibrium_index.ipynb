{
 "cells": [
  {
   "cell_type": "markdown",
   "metadata": {},
   "source": [
    "### Equilibrium Index problem:\n",
    "\n",
    "The goal is to find the array index, i, such that `sum(left) = sum(right)` (excluding the value at the equilibrium index)\n",
    "\n",
    "This index `i` is called the equilibrium index because everything to the left of `i` is in equilibrium with everything to the right of `i`."
   ]
  },
  {
   "cell_type": "code",
   "execution_count": 1,
   "metadata": {},
   "outputs": [],
   "source": [
    "def find_equilibrium_index(arr):\n",
    "    '''O(n)'''\n",
    "    if len(arr) < 3:\n",
    "        return None\n",
    "    left_sum = arr[0]\n",
    "    right_sum = sum(arr[2:])\n",
    "    for i in range(1, len(arr) - 1):\n",
    "        if left_sum == right_sum:\n",
    "            return i\n",
    "        left_sum += arr[i]\n",
    "        right_sum -= arr[i+1]\n",
    "    return None\n"
   ]
  },
  {
   "cell_type": "code",
   "execution_count": 2,
   "metadata": {},
   "outputs": [
    {
     "name": "stdout",
     "output_type": "stream",
     "text": [
      "all tests passed\n"
     ]
    }
   ],
   "source": [
    "def test(test_cases):\n",
    "    for i, test_case in enumerate(test_cases):\n",
    "        assert find_equilibrium_index(test_case['arr']) == test_case['ans'], f\"assertion error in test case {i+1}:\\n{test_case} \\nanswer received: {find_equilibrium_index(test_case['arr'])}\"\n",
    "    print('all tests passed')\n",
    "\n",
    "test_cases = [\n",
    "    {'arr': [2, 0, -4, 3, -7, 5, 1], 'ans': 2},\n",
    "    {'arr': [5, 3, 2, 0, -7, -4, 1], 'ans': None},\n",
    "    {'arr': [-7, 1, 5, 2, -4, 3, 0], 'ans': 3}\n",
    "]\n",
    "\n",
    "test(test_cases)"
   ]
  },
  {
   "cell_type": "markdown",
   "metadata": {},
   "source": [
    "### Extension to 3 splits\n",
    "\n",
    "Instead of splitting the array into two sum-equal parts, try to split the array into three sum-equal parts. This means finding indices `i` and `j` such that\n",
    "\n",
    "`sum(left) = sum(middle) = sum(right)`"
   ]
  },
  {
   "cell_type": "code",
   "execution_count": 3,
   "metadata": {},
   "outputs": [],
   "source": [
    "def find_three_part_equilibrium_index(arr):\n",
    "    '''O(n^2)'''\n",
    "    if len(arr) < 5:\n",
    "        return None\n",
    "    left_sum = arr[0]\n",
    "    for i in range(1, len(arr) - 1):\n",
    "        middle_sum = arr[i+1]\n",
    "        right_sum = sum(arr[i+3:])\n",
    "        for j in range(i+2,len(arr)-1):\n",
    "            if middle_sum == right_sum and middle_sum == left_sum:\n",
    "                return (i,j)\n",
    "            middle_sum += arr[j]\n",
    "            right_sum -= arr[j+1]\n",
    "        left_sum += arr[i]\n",
    "    return None\n"
   ]
  },
  {
   "cell_type": "code",
   "execution_count": 4,
   "metadata": {},
   "outputs": [
    {
     "name": "stdout",
     "output_type": "stream",
     "text": [
      "all tests passed\n"
     ]
    }
   ],
   "source": [
    "def test(test_cases):\n",
    "    for i, test_case in enumerate(test_cases):\n",
    "        assert find_three_part_equilibrium_index(test_case['arr']) == test_case['ans'], f\"assertion error in test case {i+1}:\\n{test_case} \\nanswer received: {find_three_part_equilibrium_index(test_case['arr'])}\"\n",
    "    print('all tests passed')\n",
    "\n",
    "test_cases = [\n",
    "    {'arr': [2, 0, -4, 3, -7, 5, 1], 'ans': None},\n",
    "    {'arr': [5, 3, 2, 0, -7, -4, 1], 'ans': None},\n",
    "    {'arr': [-7, 1, 5, 2, -4, 3, 0], 'ans': None},\n",
    "    {'arr': [0, 0, 100, 1, -1, 100, 2, -2], 'ans': (2, 5)}\n",
    "]\n",
    "\n",
    "test(test_cases)"
   ]
  }
 ],
 "metadata": {
  "kernelspec": {
   "display_name": "Python 3",
   "language": "python",
   "name": "python3"
  },
  "language_info": {
   "codemirror_mode": {
    "name": "ipython",
    "version": 3
   },
   "file_extension": ".py",
   "mimetype": "text/x-python",
   "name": "python",
   "nbconvert_exporter": "python",
   "pygments_lexer": "ipython3",
   "version": "3.7.3"
  }
 },
 "nbformat": 4,
 "nbformat_minor": 4
}
